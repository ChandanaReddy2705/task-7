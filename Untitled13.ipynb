{
  "nbformat": 4,
  "nbformat_minor": 0,
  "metadata": {
    "colab": {
      "provenance": [],
      "authorship_tag": "ABX9TyOhWsJbcHxj1Zxl+NZOTrDr",
      "include_colab_link": true
    },
    "kernelspec": {
      "name": "python3",
      "display_name": "Python 3"
    },
    "language_info": {
      "name": "python"
    }
  },
  "cells": [
    {
      "cell_type": "markdown",
      "metadata": {
        "id": "view-in-github",
        "colab_type": "text"
      },
      "source": [
        "<a href=\"https://colab.research.google.com/github/ChandanaReddy2705/task-7/blob/main/Untitled13.ipynb\" target=\"_parent\"><img src=\"https://colab.research.google.com/assets/colab-badge.svg\" alt=\"Open In Colab\"/></a>"
      ]
    },
    {
      "cell_type": "code",
      "execution_count": 3,
      "metadata": {
        "colab": {
          "base_uri": "https://localhost:8080/"
        },
        "id": "IKpsrSSgmNix",
        "outputId": "b019f109-1b6b-4ea3-bbd1-f5144339cbdd"
      },
      "outputs": [
        {
          "output_type": "stream",
          "name": "stdout",
          "text": [
            "--- Linear SVM ---\n",
            "Linear SVM Accuracy: 0.9766081871345029\n",
            "Linear SVM Classification Report:\n",
            "               precision    recall  f1-score   support\n",
            "\n",
            "           0       0.99      0.97      0.98       108\n",
            "           1       0.95      0.98      0.97        63\n",
            "\n",
            "    accuracy                           0.98       171\n",
            "   macro avg       0.97      0.98      0.98       171\n",
            "weighted avg       0.98      0.98      0.98       171\n",
            "\n",
            "\n",
            "--- Non-linear SVM (RBF Kernel) ---\n",
            "Non-linear SVM Accuracy: 0.9766081871345029\n",
            "Non-linear SVM Classification Report:\n",
            "               precision    recall  f1-score   support\n",
            "\n",
            "           0       0.98      0.98      0.98       108\n",
            "           1       0.97      0.97      0.97        63\n",
            "\n",
            "    accuracy                           0.98       171\n",
            "   macro avg       0.97      0.97      0.97       171\n",
            "weighted avg       0.98      0.98      0.98       171\n",
            "\n"
          ]
        }
      ],
      "source": [
        "import pandas as pd\n",
        "from sklearn.model_selection import train_test_split\n",
        "from sklearn.preprocessing import StandardScaler, LabelEncoder\n",
        "from sklearn.svm import LinearSVC, SVC\n",
        "from sklearn.metrics import classification_report, accuracy_score\n",
        "\n",
        "\n",
        "df = pd.read_csv('/content/breast-cancer.csv')\n",
        "\n",
        "\n",
        "df = df.drop('id', axis=1)\n",
        "\n",
        "\n",
        "X = df.drop('diagnosis', axis=1)\n",
        "y = df['diagnosis']\n",
        "\n",
        "\n",
        "if y.dtype == 'object':\n",
        "    le = LabelEncoder()\n",
        "    y = le.fit_transform(y)\n",
        "\n",
        "\n",
        "categorical_cols = X.select_dtypes(include=['object']).columns\n",
        "if len(categorical_cols) > 0:\n",
        "    X = pd.get_dummies(X, columns=categorical_cols, drop_first=True)\n",
        "\n",
        "# Split the data into training and testing sets\n",
        "X_train, X_test, y_train, y_test = train_test_split(X, y, test_size=0.3, random_state=42)\n",
        "\n",
        "# Scale the features\n",
        "scaler = StandardScaler()\n",
        "X_train_scaled = scaler.fit_transform(X_train)\n",
        "X_test_scaled = scaler.transform(X_test)\n",
        "\n",
        "# Linear SVM\n",
        "print(\"--- Linear SVM ---\")\n",
        "linear_svc = LinearSVC(random_state=42, dual=False, max_iter=2000)\n",
        "linear_svc.fit(X_train_scaled, y_train)\n",
        "y_pred_linear = linear_svc.predict(X_test_scaled)\n",
        "\n",
        "print(\"Linear SVM Accuracy:\", accuracy_score(y_test, y_pred_linear))\n",
        "print(\"Linear SVM Classification Report:\\n\", classification_report(y_test, y_pred_linear))\n",
        "\n",
        "# Non-linear SVM (RBF kernel)\n",
        "print(\"\\n--- Non-linear SVM (RBF Kernel) ---\")\n",
        "nonlinear_svc = SVC(kernel='rbf', random_state=42)\n",
        "nonlinear_svc.fit(X_train_scaled, y_train)\n",
        "y_pred_nonlinear = nonlinear_svc.predict(X_test_scaled)\n",
        "\n",
        "print(\"Non-linear SVM Accuracy:\", accuracy_score(y_test, y_pred_nonlinear))\n",
        "print(\"Non-linear SVM Classification Report:\\n\", classification_report(y_test, y_pred_nonlinear))"
      ]
    }
  ]
}